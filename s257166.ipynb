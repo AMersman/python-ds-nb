{
 "cells": [
  {
   "cell_type": "markdown",
   "id": "0257c2ac",
   "metadata": {},
   "source": [
    "# Ashley Mersman\n",
    "## Task 10\n",
    "### Loops and Patterns\n"
   ]
  },
  {
   "cell_type": "markdown",
   "id": "7befaafc",
   "metadata": {},
   "source": [
    "10. Create a new Jupyter Notebook (the name of the notebook should be your S number). Add a Markdown cell that contains your name. Add a Code cell and write Python that uses loops to draw the following pattern:\n",
    "```\n",
    "*      *\n",
    "**    **\n",
    "***  ***\n",
    "********\n",
    "```\n",
    "Make sure to add and submit both the new notebook and the changes to this notebook for this assignment."
   ]
  },
  {
   "cell_type": "code",
   "execution_count": 1,
   "id": "e1ec1813",
   "metadata": {},
   "outputs": [
    {
     "name": "stdout",
     "output_type": "stream",
     "text": [
      "*      *\n",
      "**    **\n",
      "***  ***\n",
      "********\n"
     ]
    }
   ],
   "source": [
    "for i in range(1,5):\n",
    "    space = ' ' * (8 - 2 * i)\n",
    "    row = '*' * i + space + '*' * i \n",
    "    print(row)\n",
    "    \n"
   ]
  },
  {
   "cell_type": "code",
   "execution_count": 2,
   "id": "3f2e8815",
   "metadata": {},
   "outputs": [
    {
     "name": "stdout",
     "output_type": "stream",
     "text": [
      "[NbConvertApp] Converting notebook s257166.ipynb to html\n",
      "[NbConvertApp] Writing 577948 bytes to s257166.html\n"
     ]
    }
   ],
   "source": [
    "!jupyter nbconvert --to html s257166.ipynb"
   ]
  },
  {
   "cell_type": "code",
   "execution_count": null,
   "id": "1711d8f4",
   "metadata": {},
   "outputs": [],
   "source": []
  }
 ],
 "metadata": {
  "kernelspec": {
   "display_name": "Python 3 (ipykernel)",
   "language": "python",
   "name": "python3"
  },
  "language_info": {
   "codemirror_mode": {
    "name": "ipython",
    "version": 3
   },
   "file_extension": ".py",
   "mimetype": "text/x-python",
   "name": "python",
   "nbconvert_exporter": "python",
   "pygments_lexer": "ipython3",
   "version": "3.8.8"
  }
 },
 "nbformat": 4,
 "nbformat_minor": 5
}
